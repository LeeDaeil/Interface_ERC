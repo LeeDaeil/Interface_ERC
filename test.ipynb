{
 "cells": [
  {
   "cell_type": "code",
   "execution_count": 2,
   "metadata": {},
   "outputs": [
    {
     "data": {
      "text/html": [
       "<div>\n",
       "<style scoped>\n",
       "    .dataframe tbody tr th:only-of-type {\n",
       "        vertical-align: middle;\n",
       "    }\n",
       "\n",
       "    .dataframe tbody tr th {\n",
       "        vertical-align: top;\n",
       "    }\n",
       "\n",
       "    .dataframe thead th {\n",
       "        text-align: right;\n",
       "    }\n",
       "</style>\n",
       "<table border=\"1\" class=\"dataframe\">\n",
       "  <thead>\n",
       "    <tr style=\"text-align: right;\">\n",
       "      <th></th>\n",
       "      <th>#SYMBOL NAME</th>\n",
       "      <th>KFIGIV</th>\n",
       "      <th>KJMVXE</th>\n",
       "      <th>KSENS</th>\n",
       "      <th>KZRODN</th>\n",
       "      <th>NBANK</th>\n",
       "      <th>NCRODB</th>\n",
       "      <th>NCRSTEP</th>\n",
       "      <th>NZOVLAP</th>\n",
       "      <th>NZON</th>\n",
       "      <th>...</th>\n",
       "      <th>cZINST81</th>\n",
       "      <th>cZINST70</th>\n",
       "      <th>cZINST72</th>\n",
       "      <th>cZINST73</th>\n",
       "      <th>cZINST75</th>\n",
       "      <th>UP_D</th>\n",
       "      <th>DOWN_D</th>\n",
       "      <th>BOR</th>\n",
       "      <th>MAKE_UP</th>\n",
       "      <th>Unnamed: 2255</th>\n",
       "    </tr>\n",
       "  </thead>\n",
       "  <tbody>\n",
       "    <tr>\n",
       "      <th>0</th>\n",
       "      <td>0</td>\n",
       "      <td>1</td>\n",
       "      <td>1</td>\n",
       "      <td>300</td>\n",
       "      <td>228</td>\n",
       "      <td>8</td>\n",
       "      <td>8</td>\n",
       "      <td>228</td>\n",
       "      <td>114</td>\n",
       "      <td>25</td>\n",
       "      <td>...</td>\n",
       "      <td>0</td>\n",
       "      <td>0</td>\n",
       "      <td>0</td>\n",
       "      <td>0</td>\n",
       "      <td>0</td>\n",
       "      <td>0</td>\n",
       "      <td>0</td>\n",
       "      <td>0</td>\n",
       "      <td>0</td>\n",
       "      <td>NaN</td>\n",
       "    </tr>\n",
       "    <tr>\n",
       "      <th>1</th>\n",
       "      <td>0</td>\n",
       "      <td>1</td>\n",
       "      <td>1</td>\n",
       "      <td>300</td>\n",
       "      <td>228</td>\n",
       "      <td>8</td>\n",
       "      <td>8</td>\n",
       "      <td>228</td>\n",
       "      <td>114</td>\n",
       "      <td>25</td>\n",
       "      <td>...</td>\n",
       "      <td>0</td>\n",
       "      <td>0</td>\n",
       "      <td>0</td>\n",
       "      <td>0</td>\n",
       "      <td>0</td>\n",
       "      <td>0</td>\n",
       "      <td>0</td>\n",
       "      <td>0</td>\n",
       "      <td>0</td>\n",
       "      <td>NaN</td>\n",
       "    </tr>\n",
       "    <tr>\n",
       "      <th>2</th>\n",
       "      <td>0</td>\n",
       "      <td>1</td>\n",
       "      <td>1</td>\n",
       "      <td>300</td>\n",
       "      <td>228</td>\n",
       "      <td>8</td>\n",
       "      <td>8</td>\n",
       "      <td>228</td>\n",
       "      <td>114</td>\n",
       "      <td>25</td>\n",
       "      <td>...</td>\n",
       "      <td>0</td>\n",
       "      <td>0</td>\n",
       "      <td>0</td>\n",
       "      <td>0</td>\n",
       "      <td>0</td>\n",
       "      <td>0</td>\n",
       "      <td>0</td>\n",
       "      <td>0</td>\n",
       "      <td>0</td>\n",
       "      <td>NaN</td>\n",
       "    </tr>\n",
       "    <tr>\n",
       "      <th>3</th>\n",
       "      <td>0</td>\n",
       "      <td>1</td>\n",
       "      <td>1</td>\n",
       "      <td>300</td>\n",
       "      <td>228</td>\n",
       "      <td>8</td>\n",
       "      <td>8</td>\n",
       "      <td>228</td>\n",
       "      <td>114</td>\n",
       "      <td>25</td>\n",
       "      <td>...</td>\n",
       "      <td>0</td>\n",
       "      <td>0</td>\n",
       "      <td>0</td>\n",
       "      <td>0</td>\n",
       "      <td>0</td>\n",
       "      <td>0</td>\n",
       "      <td>0</td>\n",
       "      <td>0</td>\n",
       "      <td>0</td>\n",
       "      <td>NaN</td>\n",
       "    </tr>\n",
       "    <tr>\n",
       "      <th>4</th>\n",
       "      <td>0</td>\n",
       "      <td>1</td>\n",
       "      <td>1</td>\n",
       "      <td>300</td>\n",
       "      <td>228</td>\n",
       "      <td>8</td>\n",
       "      <td>8</td>\n",
       "      <td>228</td>\n",
       "      <td>114</td>\n",
       "      <td>25</td>\n",
       "      <td>...</td>\n",
       "      <td>0</td>\n",
       "      <td>0</td>\n",
       "      <td>0</td>\n",
       "      <td>0</td>\n",
       "      <td>0</td>\n",
       "      <td>0</td>\n",
       "      <td>0</td>\n",
       "      <td>0</td>\n",
       "      <td>0</td>\n",
       "      <td>NaN</td>\n",
       "    </tr>\n",
       "  </tbody>\n",
       "</table>\n",
       "<p>5 rows × 2256 columns</p>\n",
       "</div>"
      ],
      "text/plain": [
       "   #SYMBOL NAME  KFIGIV  KJMVXE  KSENS  KZRODN  NBANK  NCRODB  NCRSTEP  \\\n",
       "0             0       1       1    300     228      8       8      228   \n",
       "1             0       1       1    300     228      8       8      228   \n",
       "2             0       1       1    300     228      8       8      228   \n",
       "3             0       1       1    300     228      8       8      228   \n",
       "4             0       1       1    300     228      8       8      228   \n",
       "\n",
       "   NZOVLAP  NZON  ...  cZINST81  cZINST70  cZINST72  cZINST73  cZINST75  UP_D  \\\n",
       "0      114    25  ...         0         0         0         0         0     0   \n",
       "1      114    25  ...         0         0         0         0         0     0   \n",
       "2      114    25  ...         0         0         0         0         0     0   \n",
       "3      114    25  ...         0         0         0         0         0     0   \n",
       "4      114    25  ...         0         0         0         0         0     0   \n",
       "\n",
       "   DOWN_D  BOR  MAKE_UP  Unnamed: 2255  \n",
       "0       0    0        0            NaN  \n",
       "1       0    0        0            NaN  \n",
       "2       0    0        0            NaN  \n",
       "3       0    0        0            NaN  \n",
       "4       0    0        0            NaN  \n",
       "\n",
       "[5 rows x 2256 columns]"
      ]
     },
     "execution_count": 2,
     "metadata": {},
     "output_type": "execute_result"
    }
   ],
   "source": [
    "import pandas as pd\n",
    "temp = pd.read_csv('./recoded_tape.txt')\n",
    "temp.head(5)"
   ]
  },
  {
   "cell_type": "code",
   "execution_count": 3,
   "metadata": {},
   "outputs": [
    {
     "data": {
      "text/plain": [
       "114"
      ]
     },
     "execution_count": 3,
     "metadata": {},
     "output_type": "execute_result"
    }
   ],
   "source": [
    "temp.at[0, 'NZOVLAP']"
   ]
  },
  {
   "cell_type": "code",
   "execution_count": 8,
   "metadata": {},
   "outputs": [
    {
     "name": "stdout",
     "output_type": "stream",
     "text": [
      "true\n",
      "FF\n"
     ]
    }
   ],
   "source": [
    "if 'KJMVXE' in temp.columns:\n",
    "    print('true')\n",
    "if 'KJMVssXE' in temp.columns:\n",
    "    print('true')\n",
    "else:\n",
    "    print('FF')"
   ]
  },
  {
   "cell_type": "code",
   "execution_count": 18,
   "metadata": {},
   "outputs": [
    {
     "data": {
      "text/plain": [
       "0"
      ]
     },
     "execution_count": 18,
     "metadata": {},
     "output_type": "execute_result"
    }
   ],
   "source": [
    "temp.at[0, 'KSIBPS']"
   ]
  },
  {
   "cell_type": "code",
   "execution_count": 36,
   "metadata": {},
   "outputs": [
    {
     "data": {
      "image/png": "[encoded data removed]",
      "text/plain": [
       "<Figure size 640x480 with 1 Axes>"
      ]
     },
     "metadata": {},
     "output_type": "display_data"
    }
   ],
   "source": [
    "import matplotlib.pyplot as plt\n",
    "\n",
    "max_pos = 228\n",
    "bank = ['A', 'B', 'C', 'D']\n",
    "pos = [100, 0, 0, 0]\n",
    "\n",
    "fig, ax = plt.subplots()\n",
    "\n",
    "[ax.axvline(x=i, ymin=p/max_pos, linewidth=50, color='#1f77b4') for i, p in enumerate(pos)]\n",
    "\n",
    "ax.set_xlim(-1, 4)\n",
    "ax.set_ylim(0, 228)\n",
    "ax.set_xticks([0, 1, 2, 3])\n",
    "ax.set_xticklabels([f'{b} Bank\\n[{p:03}]' for p, b in zip(pos, bank)])\n",
    "plt.show()"
   ]
  },
  {
   "cell_type": "code",
   "execution_count": null,
   "metadata": {},
   "outputs": [],
   "source": []
  }
 ],
 "metadata": {
  "kernelspec": {
   "display_name": "Python 3",
   "language": "python",
   "name": "python3"
  },
  "language_info": {
   "codemirror_mode": {
    "name": "ipython",
    "version": 3
   },
   "file_extension": ".py",
   "mimetype": "text/x-python",
   "name": "python",
   "nbconvert_exporter": "python",
   "pygments_lexer": "ipython3",
   "version": "3.9.13"
  },
  "orig_nbformat": 4,
  "vscode": {
   "interpreter": {
    "hash": "bc29e82288d1f5900638ca8888ce9a0ba074d2fd96141efec6c089c15f1d75ea"
   }
  }
 },
 "nbformat": 4,
 "nbformat_minor": 2
}
